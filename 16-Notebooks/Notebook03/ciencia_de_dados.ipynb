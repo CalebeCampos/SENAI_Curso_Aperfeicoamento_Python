{
 "cells": [
  {
   "cell_type": "markdown",
   "id": "7256e49b",
   "metadata": {},
   "source": [
    "## **Analise de dados, utilizando a bibilioteca pandas**\n",
    "---"
   ]
  },
  {
   "cell_type": "markdown",
   "id": "24b7b06a",
   "metadata": {},
   "source": [
    "Uma empresa contratou uma equipe para anaçlisar uma planilha de cancelamentos de planos dessa empresa. O objetivo da equipe é analisar a planilha para verificar o por que dos cancelamentos, e o que pode ser feito a respeito para diminuri o numero de cancelamentos."
   ]
  },
  {
   "cell_type": "code",
   "execution_count": 1,
   "id": "ca950160",
   "metadata": {},
   "outputs": [],
   "source": [
    "# instalando a biblioteca pandas\n",
    "#pip install pandas"
   ]
  },
  {
   "cell_type": "code",
   "execution_count": 2,
   "id": "c34f10b9",
   "metadata": {},
   "outputs": [],
   "source": [
    "import pandas as pd\n",
    "\n",
    "dataframe_cancelamentos = pd.read_csv('datasets/cancelamentos.csv')"
   ]
  },
  {
   "cell_type": "code",
   "execution_count": 3,
   "id": "f55f430a",
   "metadata": {},
   "outputs": [
    {
     "data": {
      "application/vnd.microsoft.datawrangler.viewer.v0+json": {
       "columns": [
        {
         "name": "index",
         "rawType": "int64",
         "type": "integer"
        },
        {
         "name": "CustomerID",
         "rawType": "float64",
         "type": "float"
        },
        {
         "name": "idade",
         "rawType": "float64",
         "type": "float"
        },
        {
         "name": "sexo",
         "rawType": "object",
         "type": "unknown"
        },
        {
         "name": "tempo_como_cliente",
         "rawType": "float64",
         "type": "float"
        },
        {
         "name": "frequencia_uso",
         "rawType": "float64",
         "type": "float"
        },
        {
         "name": "ligacoes_callcenter",
         "rawType": "float64",
         "type": "float"
        },
        {
         "name": "dias_atraso",
         "rawType": "float64",
         "type": "float"
        },
        {
         "name": "assinatura",
         "rawType": "object",
         "type": "unknown"
        },
        {
         "name": "duracao_contrato",
         "rawType": "object",
         "type": "unknown"
        },
        {
         "name": "total_gasto",
         "rawType": "float64",
         "type": "float"
        },
        {
         "name": "meses_ultima_interacao",
         "rawType": "float64",
         "type": "float"
        },
        {
         "name": "cancelou",
         "rawType": "float64",
         "type": "float"
        }
       ],
       "ref": "0e4656c9-3a00-4029-ab37-bf779df46d0c",
       "rows": [
        [
         "0",
         "2.0",
         "30.0",
         "Female",
         "39.0",
         "14.0",
         "5.0",
         "18.0",
         "Standard",
         "Annual",
         "932.0",
         "17.0",
         "1.0"
        ],
        [
         "1",
         "3.0",
         "65.0",
         "Female",
         "49.0",
         "1.0",
         "10.0",
         "8.0",
         "Basic",
         "Monthly",
         "557.0",
         "6.0",
         "1.0"
        ],
        [
         "2",
         "4.0",
         "55.0",
         "Female",
         "14.0",
         "4.0",
         "6.0",
         "18.0",
         "Basic",
         "Quarterly",
         "185.0",
         "3.0",
         "1.0"
        ],
        [
         "3",
         "5.0",
         "58.0",
         "Male",
         "38.0",
         "21.0",
         "7.0",
         "7.0",
         "Standard",
         "Monthly",
         "396.0",
         "29.0",
         "1.0"
        ],
        [
         "4",
         "6.0",
         "23.0",
         "Male",
         "32.0",
         "20.0",
         "5.0",
         "8.0",
         "Basic",
         "Monthly",
         "617.0",
         "20.0",
         "1.0"
        ],
        [
         "5",
         "8.0",
         "51.0",
         "Male",
         "33.0",
         "25.0",
         "9.0",
         "26.0",
         "Premium",
         "Annual",
         "129.0",
         "8.0",
         "1.0"
        ],
        [
         "6",
         "9.0",
         "58.0",
         "Female",
         "49.0",
         "12.0",
         "3.0",
         "16.0",
         "Standard",
         "Quarterly",
         "821.0",
         "24.0",
         "1.0"
        ],
        [
         "7",
         "10.0",
         "55.0",
         "Female",
         "37.0",
         "8.0",
         "4.0",
         "15.0",
         "Premium",
         "Annual",
         "445.0",
         "30.0",
         "1.0"
        ],
        [
         "8",
         "11.0",
         "39.0",
         "Male",
         "12.0",
         "5.0",
         "7.0",
         "4.0",
         "Standard",
         "Quarterly",
         "969.0",
         "13.0",
         "1.0"
        ],
        [
         "9",
         "12.0",
         "64.0",
         "Female",
         "3.0",
         "25.0",
         "2.0",
         "11.0",
         "Standard",
         "Quarterly",
         "415.0",
         "29.0",
         "1.0"
        ],
        [
         "10",
         "13.0",
         "29.0",
         "Male",
         "18.0",
         "9.0",
         "0.0",
         "30.0",
         "Premium",
         "Quarterly",
         "930.0",
         "18.0",
         "1.0"
        ],
        [
         "11",
         "14.0",
         "52.0",
         "Female",
         "21.0",
         "6.0",
         "3.0",
         "26.0",
         "Premium",
         null,
         "830.0",
         "19.0",
         "1.0"
        ],
        [
         "12",
         "15.0",
         "22.0",
         "Male",
         "41.0",
         "17.0",
         "10.0",
         "25.0",
         "Basic",
         "Quarterly",
         "265.0",
         "23.0",
         "1.0"
        ],
        [
         "13",
         "16.0",
         "48.0",
         "Female",
         "35.0",
         "25.0",
         "1.0",
         "13.0",
         "Basic",
         "Annual",
         "518.0",
         "17.0",
         "1.0"
        ],
        [
         "14",
         "17.0",
         "24.0",
         "Male",
         "4.0",
         "9.0",
         "4.0",
         "22.0",
         null,
         "Quarterly",
         "204.0",
         "4.0",
         "1.0"
        ],
        [
         "15",
         "18.0",
         "49.0",
         "Male",
         "56.0",
         "17.0",
         "2.0",
         "30.0",
         "Standard",
         "Quarterly",
         "975.0",
         "17.0",
         "1.0"
        ],
        [
         "16",
         "19.0",
         "19.0",
         "Female",
         "38.0",
         "23.0",
         "7.0",
         "11.0",
         "Basic",
         "Quarterly",
         "978.0",
         "3.0",
         "1.0"
        ],
        [
         "17",
         "20.0",
         "47.0",
         "Male",
         "41.0",
         null,
         "1.0",
         "5.0",
         null,
         "Annual",
         "151.0",
         "19.0",
         "1.0"
        ],
        [
         "18",
         "21.0",
         "24.0",
         "Male",
         "44.0",
         "13.0",
         "5.0",
         "4.0",
         null,
         "Monthly",
         "669.0",
         "13.0",
         "1.0"
        ],
        [
         "19",
         "22.0",
         "42.0",
         "Male",
         "15.0",
         "16.0",
         "2.0",
         "14.0",
         "Premium",
         "Quarterly",
         "262.0",
         "16.0",
         "1.0"
        ],
        [
         "20",
         "23.0",
         "57.0",
         "Female",
         "55.0",
         "27.0",
         "3.0",
         "3.0",
         "Basic",
         "Annual",
         "212.0",
         "10.0",
         "1.0"
        ],
        [
         "21",
         "24.0",
         "39.0",
         "Female",
         "43.0",
         "2.0",
         "4.0",
         "15.0",
         "Basic",
         "Monthly",
         "577.0",
         "6.0",
         "1.0"
        ],
        [
         "22",
         "25.0",
         "27.0",
         "Male",
         "44.0",
         "28.0",
         "8.0",
         "18.0",
         "Standard",
         "Annual",
         "436.0",
         "30.0",
         "1.0"
        ],
        [
         "23",
         "26.0",
         "27.0",
         "Female",
         null,
         "8.0",
         "7.0",
         "3.0",
         "Standard",
         "Monthly",
         "434.0",
         "19.0",
         "1.0"
        ],
        [
         "24",
         "27.0",
         "59.0",
         "Male",
         "26.0",
         "21.0",
         "0.0",
         "10.0",
         "Premium",
         "Monthly",
         "822.0",
         "17.0",
         "1.0"
        ],
        [
         "25",
         "28.0",
         "21.0",
         "Male",
         "2.0",
         "21.0",
         "7.0",
         "22.0",
         "Basic",
         "Annual",
         "435.0",
         "21.0",
         "1.0"
        ],
        [
         "26",
         "29.0",
         "60.0",
         "Female",
         "18.0",
         "16.0",
         "8.0",
         "28.0",
         "Basic",
         "Quarterly",
         "830.0",
         "22.0",
         "1.0"
        ],
        [
         "27",
         "30.0",
         "65.0",
         "Female",
         "29.0",
         "29.0",
         "0.0",
         "5.0",
         "Premium",
         "Annual",
         "857.0",
         "18.0",
         "1.0"
        ],
        [
         "28",
         "31.0",
         "35.0",
         "Female",
         "38.0",
         "20.0",
         "6.0",
         "2.0",
         "Premium",
         "Annual",
         "574.0",
         "19.0",
         "1.0"
        ],
        [
         "29",
         "32.0",
         "18.0",
         "Male",
         "37.0",
         "15.0",
         "8.0",
         "6.0",
         "Premium",
         "Monthly",
         "800.0",
         "29.0",
         "1.0"
        ],
        [
         "30",
         "33.0",
         "56.0",
         "Female",
         "59.0",
         "5.0",
         "10.0",
         "27.0",
         "Standard",
         "Quarterly",
         "424.0",
         "2.0",
         "1.0"
        ],
        [
         "31",
         "35.0",
         "35.0",
         "Male",
         "40.0",
         "27.0",
         "8.0",
         "28.0",
         "Premium",
         "Monthly",
         "232.0",
         "17.0",
         "1.0"
        ],
        [
         "32",
         "36.0",
         "29.0",
         "Male",
         "43.0",
         "12.0",
         "2.0",
         "10.0",
         "Premium",
         "Annual",
         "289.0",
         "6.0",
         "1.0"
        ],
        [
         "33",
         "37.0",
         "20.0",
         "Male",
         "37.0",
         "24.0",
         "7.0",
         "5.0",
         "Standard",
         "Annual",
         "371.0",
         "20.0",
         "1.0"
        ],
        [
         "34",
         "38.0",
         "63.0",
         "Female",
         "51.0",
         "3.0",
         "5.0",
         "12.0",
         "Standard",
         "Annual",
         "288.0",
         "15.0",
         "1.0"
        ],
        [
         "35",
         "39.0",
         "22.0",
         "Female",
         "39.0",
         "8.0",
         "2.0",
         "4.0",
         "Standard",
         "Annual",
         "939.0",
         "21.0",
         "1.0"
        ],
        [
         "36",
         "40.0",
         "25.0",
         "Female",
         "53.0",
         "2.0",
         "10.0",
         "13.0",
         "Basic",
         "Quarterly",
         "336.0",
         "13.0",
         "1.0"
        ],
        [
         "37",
         "42.0",
         "28.0",
         "Male",
         "24.0",
         "24.0",
         "8.0",
         "6.0",
         "Standard",
         "Monthly",
         "572.0",
         "28.0",
         "1.0"
        ],
        [
         "38",
         "43.0",
         "51.0",
         "Male",
         "30.0",
         "4.0",
         "10.0",
         "29.0",
         "Premium",
         "Monthly",
         "770.0",
         "23.0",
         "1.0"
        ],
        [
         "39",
         "44.0",
         "32.0",
         "Male",
         "6.0",
         "22.0",
         "3.0",
         "12.0",
         "Basic",
         "Monthly",
         "413.0",
         "20.0",
         "1.0"
        ],
        [
         "40",
         "45.0",
         "38.0",
         "Female",
         "28.0",
         "23.0",
         "6.0",
         "17.0",
         "Basic",
         "Quarterly",
         "993.0",
         "28.0",
         "1.0"
        ],
        [
         "41",
         "46.0",
         "52.0",
         "Male",
         "17.0",
         "26.0",
         "4.0",
         "6.0",
         "Basic",
         "Monthly",
         "871.0",
         "26.0",
         "1.0"
        ],
        [
         "42",
         "48.0",
         "37.0",
         "Male",
         "30.0",
         "30.0",
         "7.0",
         "13.0",
         "Basic",
         "Quarterly",
         "929.0",
         "13.0",
         "1.0"
        ],
        [
         "43",
         "49.0",
         "31.0",
         "Female",
         "4.0",
         "29.0",
         "7.0",
         "22.0",
         "Standard",
         "Annual",
         "488.0",
         "6.0",
         "1.0"
        ],
        [
         "44",
         "50.0",
         "30.0",
         "Male",
         "24.0",
         "7.0",
         "6.0",
         "13.0",
         "Standard",
         "Annual",
         "874.0",
         "3.0",
         "1.0"
        ],
        [
         "45",
         "51.0",
         "23.0",
         "Female",
         "26.0",
         "21.0",
         "7.0",
         "24.0",
         "Basic",
         "Quarterly",
         "988.0",
         "20.0",
         "1.0"
        ],
        [
         "46",
         "52.0",
         "35.0",
         "Male",
         "37.0",
         "11.0",
         "7.0",
         "13.0",
         "Standard",
         "Monthly",
         "631.0",
         "7.0",
         "1.0"
        ],
        [
         "47",
         "53.0",
         "21.0",
         "Female",
         "56.0",
         "11.0",
         "9.0",
         "9.0",
         "Basic",
         "Quarterly",
         "626.0",
         "1.0",
         "1.0"
        ],
        [
         "48",
         "54.0",
         "56.0",
         "Female",
         "44.0",
         "11.0",
         "2.0",
         "11.0",
         "Standard",
         "Annual",
         "583.0",
         "9.0",
         "1.0"
        ],
        [
         "49",
         "55.0",
         "53.0",
         "Female",
         "18.0",
         "21.0",
         "1.0",
         "23.0",
         "Basic",
         "Quarterly",
         "717.0",
         "15.0",
         "1.0"
        ]
       ],
       "shape": {
        "columns": 12,
        "rows": 881666
       }
      },
      "text/html": [
       "<div>\n",
       "<style scoped>\n",
       "    .dataframe tbody tr th:only-of-type {\n",
       "        vertical-align: middle;\n",
       "    }\n",
       "\n",
       "    .dataframe tbody tr th {\n",
       "        vertical-align: top;\n",
       "    }\n",
       "\n",
       "    .dataframe thead th {\n",
       "        text-align: right;\n",
       "    }\n",
       "</style>\n",
       "<table border=\"1\" class=\"dataframe\">\n",
       "  <thead>\n",
       "    <tr style=\"text-align: right;\">\n",
       "      <th></th>\n",
       "      <th>CustomerID</th>\n",
       "      <th>idade</th>\n",
       "      <th>sexo</th>\n",
       "      <th>tempo_como_cliente</th>\n",
       "      <th>frequencia_uso</th>\n",
       "      <th>ligacoes_callcenter</th>\n",
       "      <th>dias_atraso</th>\n",
       "      <th>assinatura</th>\n",
       "      <th>duracao_contrato</th>\n",
       "      <th>total_gasto</th>\n",
       "      <th>meses_ultima_interacao</th>\n",
       "      <th>cancelou</th>\n",
       "    </tr>\n",
       "  </thead>\n",
       "  <tbody>\n",
       "    <tr>\n",
       "      <th>0</th>\n",
       "      <td>2.0</td>\n",
       "      <td>30.0</td>\n",
       "      <td>Female</td>\n",
       "      <td>39.0</td>\n",
       "      <td>14.0</td>\n",
       "      <td>5.0</td>\n",
       "      <td>18.0</td>\n",
       "      <td>Standard</td>\n",
       "      <td>Annual</td>\n",
       "      <td>932.00</td>\n",
       "      <td>17.0</td>\n",
       "      <td>1.0</td>\n",
       "    </tr>\n",
       "    <tr>\n",
       "      <th>1</th>\n",
       "      <td>3.0</td>\n",
       "      <td>65.0</td>\n",
       "      <td>Female</td>\n",
       "      <td>49.0</td>\n",
       "      <td>1.0</td>\n",
       "      <td>10.0</td>\n",
       "      <td>8.0</td>\n",
       "      <td>Basic</td>\n",
       "      <td>Monthly</td>\n",
       "      <td>557.00</td>\n",
       "      <td>6.0</td>\n",
       "      <td>1.0</td>\n",
       "    </tr>\n",
       "    <tr>\n",
       "      <th>2</th>\n",
       "      <td>4.0</td>\n",
       "      <td>55.0</td>\n",
       "      <td>Female</td>\n",
       "      <td>14.0</td>\n",
       "      <td>4.0</td>\n",
       "      <td>6.0</td>\n",
       "      <td>18.0</td>\n",
       "      <td>Basic</td>\n",
       "      <td>Quarterly</td>\n",
       "      <td>185.00</td>\n",
       "      <td>3.0</td>\n",
       "      <td>1.0</td>\n",
       "    </tr>\n",
       "    <tr>\n",
       "      <th>3</th>\n",
       "      <td>5.0</td>\n",
       "      <td>58.0</td>\n",
       "      <td>Male</td>\n",
       "      <td>38.0</td>\n",
       "      <td>21.0</td>\n",
       "      <td>7.0</td>\n",
       "      <td>7.0</td>\n",
       "      <td>Standard</td>\n",
       "      <td>Monthly</td>\n",
       "      <td>396.00</td>\n",
       "      <td>29.0</td>\n",
       "      <td>1.0</td>\n",
       "    </tr>\n",
       "    <tr>\n",
       "      <th>4</th>\n",
       "      <td>6.0</td>\n",
       "      <td>23.0</td>\n",
       "      <td>Male</td>\n",
       "      <td>32.0</td>\n",
       "      <td>20.0</td>\n",
       "      <td>5.0</td>\n",
       "      <td>8.0</td>\n",
       "      <td>Basic</td>\n",
       "      <td>Monthly</td>\n",
       "      <td>617.00</td>\n",
       "      <td>20.0</td>\n",
       "      <td>1.0</td>\n",
       "    </tr>\n",
       "    <tr>\n",
       "      <th>...</th>\n",
       "      <td>...</td>\n",
       "      <td>...</td>\n",
       "      <td>...</td>\n",
       "      <td>...</td>\n",
       "      <td>...</td>\n",
       "      <td>...</td>\n",
       "      <td>...</td>\n",
       "      <td>...</td>\n",
       "      <td>...</td>\n",
       "      <td>...</td>\n",
       "      <td>...</td>\n",
       "      <td>...</td>\n",
       "    </tr>\n",
       "    <tr>\n",
       "      <th>881661</th>\n",
       "      <td>449995.0</td>\n",
       "      <td>42.0</td>\n",
       "      <td>Male</td>\n",
       "      <td>54.0</td>\n",
       "      <td>15.0</td>\n",
       "      <td>1.0</td>\n",
       "      <td>3.0</td>\n",
       "      <td>Premium</td>\n",
       "      <td>Annual</td>\n",
       "      <td>716.38</td>\n",
       "      <td>8.0</td>\n",
       "      <td>0.0</td>\n",
       "    </tr>\n",
       "    <tr>\n",
       "      <th>881662</th>\n",
       "      <td>449996.0</td>\n",
       "      <td>25.0</td>\n",
       "      <td>Female</td>\n",
       "      <td>8.0</td>\n",
       "      <td>13.0</td>\n",
       "      <td>1.0</td>\n",
       "      <td>20.0</td>\n",
       "      <td>Premium</td>\n",
       "      <td>Annual</td>\n",
       "      <td>745.38</td>\n",
       "      <td>2.0</td>\n",
       "      <td>0.0</td>\n",
       "    </tr>\n",
       "    <tr>\n",
       "      <th>881663</th>\n",
       "      <td>449997.0</td>\n",
       "      <td>26.0</td>\n",
       "      <td>Male</td>\n",
       "      <td>35.0</td>\n",
       "      <td>27.0</td>\n",
       "      <td>1.0</td>\n",
       "      <td>5.0</td>\n",
       "      <td>Standard</td>\n",
       "      <td>Quarterly</td>\n",
       "      <td>977.31</td>\n",
       "      <td>9.0</td>\n",
       "      <td>0.0</td>\n",
       "    </tr>\n",
       "    <tr>\n",
       "      <th>881664</th>\n",
       "      <td>449998.0</td>\n",
       "      <td>28.0</td>\n",
       "      <td>Male</td>\n",
       "      <td>55.0</td>\n",
       "      <td>14.0</td>\n",
       "      <td>2.0</td>\n",
       "      <td>0.0</td>\n",
       "      <td>Standard</td>\n",
       "      <td>Quarterly</td>\n",
       "      <td>602.55</td>\n",
       "      <td>2.0</td>\n",
       "      <td>0.0</td>\n",
       "    </tr>\n",
       "    <tr>\n",
       "      <th>881665</th>\n",
       "      <td>449999.0</td>\n",
       "      <td>31.0</td>\n",
       "      <td>Male</td>\n",
       "      <td>48.0</td>\n",
       "      <td>20.0</td>\n",
       "      <td>1.0</td>\n",
       "      <td>14.0</td>\n",
       "      <td>Premium</td>\n",
       "      <td>Quarterly</td>\n",
       "      <td>567.77</td>\n",
       "      <td>21.0</td>\n",
       "      <td>0.0</td>\n",
       "    </tr>\n",
       "  </tbody>\n",
       "</table>\n",
       "<p>881666 rows × 12 columns</p>\n",
       "</div>"
      ],
      "text/plain": [
       "        CustomerID  idade    sexo  tempo_como_cliente  frequencia_uso  \\\n",
       "0              2.0   30.0  Female                39.0            14.0   \n",
       "1              3.0   65.0  Female                49.0             1.0   \n",
       "2              4.0   55.0  Female                14.0             4.0   \n",
       "3              5.0   58.0    Male                38.0            21.0   \n",
       "4              6.0   23.0    Male                32.0            20.0   \n",
       "...            ...    ...     ...                 ...             ...   \n",
       "881661    449995.0   42.0    Male                54.0            15.0   \n",
       "881662    449996.0   25.0  Female                 8.0            13.0   \n",
       "881663    449997.0   26.0    Male                35.0            27.0   \n",
       "881664    449998.0   28.0    Male                55.0            14.0   \n",
       "881665    449999.0   31.0    Male                48.0            20.0   \n",
       "\n",
       "        ligacoes_callcenter  dias_atraso assinatura duracao_contrato  \\\n",
       "0                       5.0         18.0   Standard           Annual   \n",
       "1                      10.0          8.0      Basic          Monthly   \n",
       "2                       6.0         18.0      Basic        Quarterly   \n",
       "3                       7.0          7.0   Standard          Monthly   \n",
       "4                       5.0          8.0      Basic          Monthly   \n",
       "...                     ...          ...        ...              ...   \n",
       "881661                  1.0          3.0    Premium           Annual   \n",
       "881662                  1.0         20.0    Premium           Annual   \n",
       "881663                  1.0          5.0   Standard        Quarterly   \n",
       "881664                  2.0          0.0   Standard        Quarterly   \n",
       "881665                  1.0         14.0    Premium        Quarterly   \n",
       "\n",
       "        total_gasto  meses_ultima_interacao  cancelou  \n",
       "0            932.00                    17.0       1.0  \n",
       "1            557.00                     6.0       1.0  \n",
       "2            185.00                     3.0       1.0  \n",
       "3            396.00                    29.0       1.0  \n",
       "4            617.00                    20.0       1.0  \n",
       "...             ...                     ...       ...  \n",
       "881661       716.38                     8.0       0.0  \n",
       "881662       745.38                     2.0       0.0  \n",
       "881663       977.31                     9.0       0.0  \n",
       "881664       602.55                     2.0       0.0  \n",
       "881665       567.77                    21.0       0.0  \n",
       "\n",
       "[881666 rows x 12 columns]"
      ]
     },
     "metadata": {},
     "output_type": "display_data"
    }
   ],
   "source": [
    "# Exibindo as 5 primeiras linhas\n",
    "display(dataframe_cancelamentos)"
   ]
  },
  {
   "cell_type": "markdown",
   "id": "3226522d",
   "metadata": {},
   "source": [
    "#### Tratamento dos dados"
   ]
  },
  {
   "cell_type": "code",
   "execution_count": 4,
   "id": "40650bc6",
   "metadata": {},
   "outputs": [
    {
     "data": {
      "application/vnd.microsoft.datawrangler.viewer.v0+json": {
       "columns": [
        {
         "name": "index",
         "rawType": "int64",
         "type": "integer"
        },
        {
         "name": "idade",
         "rawType": "float64",
         "type": "float"
        },
        {
         "name": "sexo",
         "rawType": "object",
         "type": "unknown"
        },
        {
         "name": "tempo_como_cliente",
         "rawType": "float64",
         "type": "float"
        },
        {
         "name": "frequencia_uso",
         "rawType": "float64",
         "type": "float"
        },
        {
         "name": "ligacoes_callcenter",
         "rawType": "float64",
         "type": "float"
        },
        {
         "name": "dias_atraso",
         "rawType": "float64",
         "type": "float"
        },
        {
         "name": "assinatura",
         "rawType": "object",
         "type": "unknown"
        },
        {
         "name": "duracao_contrato",
         "rawType": "object",
         "type": "unknown"
        },
        {
         "name": "total_gasto",
         "rawType": "float64",
         "type": "float"
        },
        {
         "name": "meses_ultima_interacao",
         "rawType": "float64",
         "type": "float"
        },
        {
         "name": "cancelou",
         "rawType": "float64",
         "type": "float"
        }
       ],
       "ref": "c2b92253-dce2-48be-afc8-e7ebaa65d2d1",
       "rows": [
        [
         "0",
         "30.0",
         "Female",
         "39.0",
         "14.0",
         "5.0",
         "18.0",
         "Standard",
         "Annual",
         "932.0",
         "17.0",
         "1.0"
        ],
        [
         "1",
         "65.0",
         "Female",
         "49.0",
         "1.0",
         "10.0",
         "8.0",
         "Basic",
         "Monthly",
         "557.0",
         "6.0",
         "1.0"
        ],
        [
         "2",
         "55.0",
         "Female",
         "14.0",
         "4.0",
         "6.0",
         "18.0",
         "Basic",
         "Quarterly",
         "185.0",
         "3.0",
         "1.0"
        ],
        [
         "3",
         "58.0",
         "Male",
         "38.0",
         "21.0",
         "7.0",
         "7.0",
         "Standard",
         "Monthly",
         "396.0",
         "29.0",
         "1.0"
        ],
        [
         "4",
         "23.0",
         "Male",
         "32.0",
         "20.0",
         "5.0",
         "8.0",
         "Basic",
         "Monthly",
         "617.0",
         "20.0",
         "1.0"
        ],
        [
         "5",
         "51.0",
         "Male",
         "33.0",
         "25.0",
         "9.0",
         "26.0",
         "Premium",
         "Annual",
         "129.0",
         "8.0",
         "1.0"
        ],
        [
         "6",
         "58.0",
         "Female",
         "49.0",
         "12.0",
         "3.0",
         "16.0",
         "Standard",
         "Quarterly",
         "821.0",
         "24.0",
         "1.0"
        ],
        [
         "7",
         "55.0",
         "Female",
         "37.0",
         "8.0",
         "4.0",
         "15.0",
         "Premium",
         "Annual",
         "445.0",
         "30.0",
         "1.0"
        ],
        [
         "8",
         "39.0",
         "Male",
         "12.0",
         "5.0",
         "7.0",
         "4.0",
         "Standard",
         "Quarterly",
         "969.0",
         "13.0",
         "1.0"
        ],
        [
         "9",
         "64.0",
         "Female",
         "3.0",
         "25.0",
         "2.0",
         "11.0",
         "Standard",
         "Quarterly",
         "415.0",
         "29.0",
         "1.0"
        ],
        [
         "10",
         "29.0",
         "Male",
         "18.0",
         "9.0",
         "0.0",
         "30.0",
         "Premium",
         "Quarterly",
         "930.0",
         "18.0",
         "1.0"
        ],
        [
         "11",
         "52.0",
         "Female",
         "21.0",
         "6.0",
         "3.0",
         "26.0",
         "Premium",
         null,
         "830.0",
         "19.0",
         "1.0"
        ],
        [
         "12",
         "22.0",
         "Male",
         "41.0",
         "17.0",
         "10.0",
         "25.0",
         "Basic",
         "Quarterly",
         "265.0",
         "23.0",
         "1.0"
        ],
        [
         "13",
         "48.0",
         "Female",
         "35.0",
         "25.0",
         "1.0",
         "13.0",
         "Basic",
         "Annual",
         "518.0",
         "17.0",
         "1.0"
        ],
        [
         "14",
         "24.0",
         "Male",
         "4.0",
         "9.0",
         "4.0",
         "22.0",
         null,
         "Quarterly",
         "204.0",
         "4.0",
         "1.0"
        ],
        [
         "15",
         "49.0",
         "Male",
         "56.0",
         "17.0",
         "2.0",
         "30.0",
         "Standard",
         "Quarterly",
         "975.0",
         "17.0",
         "1.0"
        ],
        [
         "16",
         "19.0",
         "Female",
         "38.0",
         "23.0",
         "7.0",
         "11.0",
         "Basic",
         "Quarterly",
         "978.0",
         "3.0",
         "1.0"
        ],
        [
         "17",
         "47.0",
         "Male",
         "41.0",
         null,
         "1.0",
         "5.0",
         null,
         "Annual",
         "151.0",
         "19.0",
         "1.0"
        ],
        [
         "18",
         "24.0",
         "Male",
         "44.0",
         "13.0",
         "5.0",
         "4.0",
         null,
         "Monthly",
         "669.0",
         "13.0",
         "1.0"
        ],
        [
         "19",
         "42.0",
         "Male",
         "15.0",
         "16.0",
         "2.0",
         "14.0",
         "Premium",
         "Quarterly",
         "262.0",
         "16.0",
         "1.0"
        ],
        [
         "20",
         "57.0",
         "Female",
         "55.0",
         "27.0",
         "3.0",
         "3.0",
         "Basic",
         "Annual",
         "212.0",
         "10.0",
         "1.0"
        ],
        [
         "21",
         "39.0",
         "Female",
         "43.0",
         "2.0",
         "4.0",
         "15.0",
         "Basic",
         "Monthly",
         "577.0",
         "6.0",
         "1.0"
        ],
        [
         "22",
         "27.0",
         "Male",
         "44.0",
         "28.0",
         "8.0",
         "18.0",
         "Standard",
         "Annual",
         "436.0",
         "30.0",
         "1.0"
        ],
        [
         "23",
         "27.0",
         "Female",
         null,
         "8.0",
         "7.0",
         "3.0",
         "Standard",
         "Monthly",
         "434.0",
         "19.0",
         "1.0"
        ],
        [
         "24",
         "59.0",
         "Male",
         "26.0",
         "21.0",
         "0.0",
         "10.0",
         "Premium",
         "Monthly",
         "822.0",
         "17.0",
         "1.0"
        ],
        [
         "25",
         "21.0",
         "Male",
         "2.0",
         "21.0",
         "7.0",
         "22.0",
         "Basic",
         "Annual",
         "435.0",
         "21.0",
         "1.0"
        ],
        [
         "26",
         "60.0",
         "Female",
         "18.0",
         "16.0",
         "8.0",
         "28.0",
         "Basic",
         "Quarterly",
         "830.0",
         "22.0",
         "1.0"
        ],
        [
         "27",
         "65.0",
         "Female",
         "29.0",
         "29.0",
         "0.0",
         "5.0",
         "Premium",
         "Annual",
         "857.0",
         "18.0",
         "1.0"
        ],
        [
         "28",
         "35.0",
         "Female",
         "38.0",
         "20.0",
         "6.0",
         "2.0",
         "Premium",
         "Annual",
         "574.0",
         "19.0",
         "1.0"
        ],
        [
         "29",
         "18.0",
         "Male",
         "37.0",
         "15.0",
         "8.0",
         "6.0",
         "Premium",
         "Monthly",
         "800.0",
         "29.0",
         "1.0"
        ],
        [
         "30",
         "56.0",
         "Female",
         "59.0",
         "5.0",
         "10.0",
         "27.0",
         "Standard",
         "Quarterly",
         "424.0",
         "2.0",
         "1.0"
        ],
        [
         "31",
         "35.0",
         "Male",
         "40.0",
         "27.0",
         "8.0",
         "28.0",
         "Premium",
         "Monthly",
         "232.0",
         "17.0",
         "1.0"
        ],
        [
         "32",
         "29.0",
         "Male",
         "43.0",
         "12.0",
         "2.0",
         "10.0",
         "Premium",
         "Annual",
         "289.0",
         "6.0",
         "1.0"
        ],
        [
         "33",
         "20.0",
         "Male",
         "37.0",
         "24.0",
         "7.0",
         "5.0",
         "Standard",
         "Annual",
         "371.0",
         "20.0",
         "1.0"
        ],
        [
         "34",
         "63.0",
         "Female",
         "51.0",
         "3.0",
         "5.0",
         "12.0",
         "Standard",
         "Annual",
         "288.0",
         "15.0",
         "1.0"
        ],
        [
         "35",
         "22.0",
         "Female",
         "39.0",
         "8.0",
         "2.0",
         "4.0",
         "Standard",
         "Annual",
         "939.0",
         "21.0",
         "1.0"
        ],
        [
         "36",
         "25.0",
         "Female",
         "53.0",
         "2.0",
         "10.0",
         "13.0",
         "Basic",
         "Quarterly",
         "336.0",
         "13.0",
         "1.0"
        ],
        [
         "37",
         "28.0",
         "Male",
         "24.0",
         "24.0",
         "8.0",
         "6.0",
         "Standard",
         "Monthly",
         "572.0",
         "28.0",
         "1.0"
        ],
        [
         "38",
         "51.0",
         "Male",
         "30.0",
         "4.0",
         "10.0",
         "29.0",
         "Premium",
         "Monthly",
         "770.0",
         "23.0",
         "1.0"
        ],
        [
         "39",
         "32.0",
         "Male",
         "6.0",
         "22.0",
         "3.0",
         "12.0",
         "Basic",
         "Monthly",
         "413.0",
         "20.0",
         "1.0"
        ],
        [
         "40",
         "38.0",
         "Female",
         "28.0",
         "23.0",
         "6.0",
         "17.0",
         "Basic",
         "Quarterly",
         "993.0",
         "28.0",
         "1.0"
        ],
        [
         "41",
         "52.0",
         "Male",
         "17.0",
         "26.0",
         "4.0",
         "6.0",
         "Basic",
         "Monthly",
         "871.0",
         "26.0",
         "1.0"
        ],
        [
         "42",
         "37.0",
         "Male",
         "30.0",
         "30.0",
         "7.0",
         "13.0",
         "Basic",
         "Quarterly",
         "929.0",
         "13.0",
         "1.0"
        ],
        [
         "43",
         "31.0",
         "Female",
         "4.0",
         "29.0",
         "7.0",
         "22.0",
         "Standard",
         "Annual",
         "488.0",
         "6.0",
         "1.0"
        ],
        [
         "44",
         "30.0",
         "Male",
         "24.0",
         "7.0",
         "6.0",
         "13.0",
         "Standard",
         "Annual",
         "874.0",
         "3.0",
         "1.0"
        ],
        [
         "45",
         "23.0",
         "Female",
         "26.0",
         "21.0",
         "7.0",
         "24.0",
         "Basic",
         "Quarterly",
         "988.0",
         "20.0",
         "1.0"
        ],
        [
         "46",
         "35.0",
         "Male",
         "37.0",
         "11.0",
         "7.0",
         "13.0",
         "Standard",
         "Monthly",
         "631.0",
         "7.0",
         "1.0"
        ],
        [
         "47",
         "21.0",
         "Female",
         "56.0",
         "11.0",
         "9.0",
         "9.0",
         "Basic",
         "Quarterly",
         "626.0",
         "1.0",
         "1.0"
        ],
        [
         "48",
         "56.0",
         "Female",
         "44.0",
         "11.0",
         "2.0",
         "11.0",
         "Standard",
         "Annual",
         "583.0",
         "9.0",
         "1.0"
        ],
        [
         "49",
         "53.0",
         "Female",
         "18.0",
         "21.0",
         "1.0",
         "23.0",
         "Basic",
         "Quarterly",
         "717.0",
         "15.0",
         "1.0"
        ]
       ],
       "shape": {
        "columns": 11,
        "rows": 881666
       }
      },
      "text/html": [
       "<div>\n",
       "<style scoped>\n",
       "    .dataframe tbody tr th:only-of-type {\n",
       "        vertical-align: middle;\n",
       "    }\n",
       "\n",
       "    .dataframe tbody tr th {\n",
       "        vertical-align: top;\n",
       "    }\n",
       "\n",
       "    .dataframe thead th {\n",
       "        text-align: right;\n",
       "    }\n",
       "</style>\n",
       "<table border=\"1\" class=\"dataframe\">\n",
       "  <thead>\n",
       "    <tr style=\"text-align: right;\">\n",
       "      <th></th>\n",
       "      <th>idade</th>\n",
       "      <th>sexo</th>\n",
       "      <th>tempo_como_cliente</th>\n",
       "      <th>frequencia_uso</th>\n",
       "      <th>ligacoes_callcenter</th>\n",
       "      <th>dias_atraso</th>\n",
       "      <th>assinatura</th>\n",
       "      <th>duracao_contrato</th>\n",
       "      <th>total_gasto</th>\n",
       "      <th>meses_ultima_interacao</th>\n",
       "      <th>cancelou</th>\n",
       "    </tr>\n",
       "  </thead>\n",
       "  <tbody>\n",
       "    <tr>\n",
       "      <th>0</th>\n",
       "      <td>30.0</td>\n",
       "      <td>Female</td>\n",
       "      <td>39.0</td>\n",
       "      <td>14.0</td>\n",
       "      <td>5.0</td>\n",
       "      <td>18.0</td>\n",
       "      <td>Standard</td>\n",
       "      <td>Annual</td>\n",
       "      <td>932.00</td>\n",
       "      <td>17.0</td>\n",
       "      <td>1.0</td>\n",
       "    </tr>\n",
       "    <tr>\n",
       "      <th>1</th>\n",
       "      <td>65.0</td>\n",
       "      <td>Female</td>\n",
       "      <td>49.0</td>\n",
       "      <td>1.0</td>\n",
       "      <td>10.0</td>\n",
       "      <td>8.0</td>\n",
       "      <td>Basic</td>\n",
       "      <td>Monthly</td>\n",
       "      <td>557.00</td>\n",
       "      <td>6.0</td>\n",
       "      <td>1.0</td>\n",
       "    </tr>\n",
       "    <tr>\n",
       "      <th>2</th>\n",
       "      <td>55.0</td>\n",
       "      <td>Female</td>\n",
       "      <td>14.0</td>\n",
       "      <td>4.0</td>\n",
       "      <td>6.0</td>\n",
       "      <td>18.0</td>\n",
       "      <td>Basic</td>\n",
       "      <td>Quarterly</td>\n",
       "      <td>185.00</td>\n",
       "      <td>3.0</td>\n",
       "      <td>1.0</td>\n",
       "    </tr>\n",
       "    <tr>\n",
       "      <th>3</th>\n",
       "      <td>58.0</td>\n",
       "      <td>Male</td>\n",
       "      <td>38.0</td>\n",
       "      <td>21.0</td>\n",
       "      <td>7.0</td>\n",
       "      <td>7.0</td>\n",
       "      <td>Standard</td>\n",
       "      <td>Monthly</td>\n",
       "      <td>396.00</td>\n",
       "      <td>29.0</td>\n",
       "      <td>1.0</td>\n",
       "    </tr>\n",
       "    <tr>\n",
       "      <th>4</th>\n",
       "      <td>23.0</td>\n",
       "      <td>Male</td>\n",
       "      <td>32.0</td>\n",
       "      <td>20.0</td>\n",
       "      <td>5.0</td>\n",
       "      <td>8.0</td>\n",
       "      <td>Basic</td>\n",
       "      <td>Monthly</td>\n",
       "      <td>617.00</td>\n",
       "      <td>20.0</td>\n",
       "      <td>1.0</td>\n",
       "    </tr>\n",
       "    <tr>\n",
       "      <th>...</th>\n",
       "      <td>...</td>\n",
       "      <td>...</td>\n",
       "      <td>...</td>\n",
       "      <td>...</td>\n",
       "      <td>...</td>\n",
       "      <td>...</td>\n",
       "      <td>...</td>\n",
       "      <td>...</td>\n",
       "      <td>...</td>\n",
       "      <td>...</td>\n",
       "      <td>...</td>\n",
       "    </tr>\n",
       "    <tr>\n",
       "      <th>881661</th>\n",
       "      <td>42.0</td>\n",
       "      <td>Male</td>\n",
       "      <td>54.0</td>\n",
       "      <td>15.0</td>\n",
       "      <td>1.0</td>\n",
       "      <td>3.0</td>\n",
       "      <td>Premium</td>\n",
       "      <td>Annual</td>\n",
       "      <td>716.38</td>\n",
       "      <td>8.0</td>\n",
       "      <td>0.0</td>\n",
       "    </tr>\n",
       "    <tr>\n",
       "      <th>881662</th>\n",
       "      <td>25.0</td>\n",
       "      <td>Female</td>\n",
       "      <td>8.0</td>\n",
       "      <td>13.0</td>\n",
       "      <td>1.0</td>\n",
       "      <td>20.0</td>\n",
       "      <td>Premium</td>\n",
       "      <td>Annual</td>\n",
       "      <td>745.38</td>\n",
       "      <td>2.0</td>\n",
       "      <td>0.0</td>\n",
       "    </tr>\n",
       "    <tr>\n",
       "      <th>881663</th>\n",
       "      <td>26.0</td>\n",
       "      <td>Male</td>\n",
       "      <td>35.0</td>\n",
       "      <td>27.0</td>\n",
       "      <td>1.0</td>\n",
       "      <td>5.0</td>\n",
       "      <td>Standard</td>\n",
       "      <td>Quarterly</td>\n",
       "      <td>977.31</td>\n",
       "      <td>9.0</td>\n",
       "      <td>0.0</td>\n",
       "    </tr>\n",
       "    <tr>\n",
       "      <th>881664</th>\n",
       "      <td>28.0</td>\n",
       "      <td>Male</td>\n",
       "      <td>55.0</td>\n",
       "      <td>14.0</td>\n",
       "      <td>2.0</td>\n",
       "      <td>0.0</td>\n",
       "      <td>Standard</td>\n",
       "      <td>Quarterly</td>\n",
       "      <td>602.55</td>\n",
       "      <td>2.0</td>\n",
       "      <td>0.0</td>\n",
       "    </tr>\n",
       "    <tr>\n",
       "      <th>881665</th>\n",
       "      <td>31.0</td>\n",
       "      <td>Male</td>\n",
       "      <td>48.0</td>\n",
       "      <td>20.0</td>\n",
       "      <td>1.0</td>\n",
       "      <td>14.0</td>\n",
       "      <td>Premium</td>\n",
       "      <td>Quarterly</td>\n",
       "      <td>567.77</td>\n",
       "      <td>21.0</td>\n",
       "      <td>0.0</td>\n",
       "    </tr>\n",
       "  </tbody>\n",
       "</table>\n",
       "<p>881666 rows × 11 columns</p>\n",
       "</div>"
      ],
      "text/plain": [
       "        idade    sexo  tempo_como_cliente  frequencia_uso  \\\n",
       "0        30.0  Female                39.0            14.0   \n",
       "1        65.0  Female                49.0             1.0   \n",
       "2        55.0  Female                14.0             4.0   \n",
       "3        58.0    Male                38.0            21.0   \n",
       "4        23.0    Male                32.0            20.0   \n",
       "...       ...     ...                 ...             ...   \n",
       "881661   42.0    Male                54.0            15.0   \n",
       "881662   25.0  Female                 8.0            13.0   \n",
       "881663   26.0    Male                35.0            27.0   \n",
       "881664   28.0    Male                55.0            14.0   \n",
       "881665   31.0    Male                48.0            20.0   \n",
       "\n",
       "        ligacoes_callcenter  dias_atraso assinatura duracao_contrato  \\\n",
       "0                       5.0         18.0   Standard           Annual   \n",
       "1                      10.0          8.0      Basic          Monthly   \n",
       "2                       6.0         18.0      Basic        Quarterly   \n",
       "3                       7.0          7.0   Standard          Monthly   \n",
       "4                       5.0          8.0      Basic          Monthly   \n",
       "...                     ...          ...        ...              ...   \n",
       "881661                  1.0          3.0    Premium           Annual   \n",
       "881662                  1.0         20.0    Premium           Annual   \n",
       "881663                  1.0          5.0   Standard        Quarterly   \n",
       "881664                  2.0          0.0   Standard        Quarterly   \n",
       "881665                  1.0         14.0    Premium        Quarterly   \n",
       "\n",
       "        total_gasto  meses_ultima_interacao  cancelou  \n",
       "0            932.00                    17.0       1.0  \n",
       "1            557.00                     6.0       1.0  \n",
       "2            185.00                     3.0       1.0  \n",
       "3            396.00                    29.0       1.0  \n",
       "4            617.00                    20.0       1.0  \n",
       "...             ...                     ...       ...  \n",
       "881661       716.38                     8.0       0.0  \n",
       "881662       745.38                     2.0       0.0  \n",
       "881663       977.31                     9.0       0.0  \n",
       "881664       602.55                     2.0       0.0  \n",
       "881665       567.77                    21.0       0.0  \n",
       "\n",
       "[881666 rows x 11 columns]"
      ]
     },
     "metadata": {},
     "output_type": "display_data"
    }
   ],
   "source": [
    "# removendo a coluna de id\n",
    "dataframe_cancelamentos = dataframe_cancelamentos.drop(columns=['CustomerID'])\n",
    "\n",
    "display(dataframe_cancelamentos)"
   ]
  },
  {
   "cell_type": "code",
   "execution_count": 5,
   "id": "f70ced7f",
   "metadata": {},
   "outputs": [
    {
     "name": "stdout",
     "output_type": "stream",
     "text": [
      "<class 'pandas.core.frame.DataFrame'>\n",
      "RangeIndex: 881666 entries, 0 to 881665\n",
      "Data columns (total 11 columns):\n",
      " #   Column                  Non-Null Count   Dtype  \n",
      "---  ------                  --------------   -----  \n",
      " 0   idade                   881664 non-null  float64\n",
      " 1   sexo                    881664 non-null  object \n",
      " 2   tempo_como_cliente      881663 non-null  float64\n",
      " 3   frequencia_uso          881663 non-null  float64\n",
      " 4   ligacoes_callcenter     881664 non-null  float64\n",
      " 5   dias_atraso             881664 non-null  float64\n",
      " 6   assinatura              881661 non-null  object \n",
      " 7   duracao_contrato        881663 non-null  object \n",
      " 8   total_gasto             881664 non-null  float64\n",
      " 9   meses_ultima_interacao  881664 non-null  float64\n",
      " 10  cancelou                881664 non-null  float64\n",
      "dtypes: float64(8), object(3)\n",
      "memory usage: 74.0+ MB\n"
     ]
    }
   ],
   "source": [
    "# exibindo informações gerais do dataframe\n",
    "dataframe_cancelamentos.info()"
   ]
  },
  {
   "cell_type": "code",
   "execution_count": 6,
   "id": "59abd76c",
   "metadata": {},
   "outputs": [
    {
     "data": {
      "application/vnd.microsoft.datawrangler.viewer.v0+json": {
       "columns": [
        {
         "name": "index",
         "rawType": "object",
         "type": "string"
        },
        {
         "name": "0",
         "rawType": "int64",
         "type": "integer"
        }
       ],
       "ref": "011ac18d-174d-452e-8df3-94c4f363ab43",
       "rows": [
        [
         "idade",
         "2"
        ],
        [
         "sexo",
         "2"
        ],
        [
         "tempo_como_cliente",
         "3"
        ],
        [
         "frequencia_uso",
         "3"
        ],
        [
         "ligacoes_callcenter",
         "2"
        ],
        [
         "dias_atraso",
         "2"
        ],
        [
         "assinatura",
         "5"
        ],
        [
         "duracao_contrato",
         "3"
        ],
        [
         "total_gasto",
         "2"
        ],
        [
         "meses_ultima_interacao",
         "2"
        ],
        [
         "cancelou",
         "2"
        ]
       ],
       "shape": {
        "columns": 1,
        "rows": 11
       }
      },
      "text/plain": [
       "idade                     2\n",
       "sexo                      2\n",
       "tempo_como_cliente        3\n",
       "frequencia_uso            3\n",
       "ligacoes_callcenter       2\n",
       "dias_atraso               2\n",
       "assinatura                5\n",
       "duracao_contrato          3\n",
       "total_gasto               2\n",
       "meses_ultima_interacao    2\n",
       "cancelou                  2\n",
       "dtype: int64"
      ]
     },
     "execution_count": 6,
     "metadata": {},
     "output_type": "execute_result"
    }
   ],
   "source": [
    "# verificando se existe colunas com valores nulos\n",
    "dataframe_cancelamentos.isnull().sum()"
   ]
  },
  {
   "cell_type": "code",
   "execution_count": 7,
   "id": "f58bd72a",
   "metadata": {},
   "outputs": [
    {
     "data": {
      "application/vnd.microsoft.datawrangler.viewer.v0+json": {
       "columns": [
        {
         "name": "index",
         "rawType": "object",
         "type": "string"
        },
        {
         "name": "0",
         "rawType": "int64",
         "type": "integer"
        }
       ],
       "ref": "77fcdfd0-dce7-4191-8db9-a6f8670c2c6b",
       "rows": [
        [
         "idade",
         "0"
        ],
        [
         "sexo",
         "0"
        ],
        [
         "tempo_como_cliente",
         "0"
        ],
        [
         "frequencia_uso",
         "0"
        ],
        [
         "ligacoes_callcenter",
         "0"
        ],
        [
         "dias_atraso",
         "0"
        ],
        [
         "assinatura",
         "0"
        ],
        [
         "duracao_contrato",
         "0"
        ],
        [
         "total_gasto",
         "0"
        ],
        [
         "meses_ultima_interacao",
         "0"
        ],
        [
         "cancelou",
         "0"
        ]
       ],
       "shape": {
        "columns": 1,
        "rows": 11
       }
      },
      "text/plain": [
       "idade                     0\n",
       "sexo                      0\n",
       "tempo_como_cliente        0\n",
       "frequencia_uso            0\n",
       "ligacoes_callcenter       0\n",
       "dias_atraso               0\n",
       "assinatura                0\n",
       "duracao_contrato          0\n",
       "total_gasto               0\n",
       "meses_ultima_interacao    0\n",
       "cancelou                  0\n",
       "dtype: int64"
      ]
     },
     "execution_count": 7,
     "metadata": {},
     "output_type": "execute_result"
    }
   ],
   "source": [
    "# eliminando as linhas que possuem alguma coluna com valor nulo\n",
    "dataframe_cancelamentos = dataframe_cancelamentos.dropna()\n",
    "\n",
    "dataframe_cancelamentos.isnull().sum()"
   ]
  },
  {
   "cell_type": "markdown",
   "id": "bb588f2a",
   "metadata": {},
   "source": [
    "#### Analisando os dados"
   ]
  },
  {
   "cell_type": "code",
   "execution_count": 8,
   "id": "1a835e45",
   "metadata": {},
   "outputs": [
    {
     "data": {
      "application/vnd.microsoft.datawrangler.viewer.v0+json": {
       "columns": [
        {
         "name": "cancelou",
         "rawType": "float64",
         "type": "float"
        },
        {
         "name": "count",
         "rawType": "int64",
         "type": "integer"
        }
       ],
       "ref": "155df067-e0c9-41ac-b19b-6fa16a852268",
       "rows": [
        [
         "1.0",
         "499993"
        ],
        [
         "0.0",
         "381666"
        ]
       ],
       "shape": {
        "columns": 1,
        "rows": 2
       }
      },
      "text/plain": [
       "cancelou\n",
       "1.0    499993\n",
       "0.0    381666\n",
       "Name: count, dtype: int64"
      ]
     },
     "metadata": {},
     "output_type": "display_data"
    }
   ],
   "source": [
    "# quantidade total de cancelamentos\n",
    "display(dataframe_cancelamentos['cancelou'].value_counts())"
   ]
  },
  {
   "cell_type": "markdown",
   "id": "23cb3064",
   "metadata": {},
   "source": [
    "Observa-se que o numero de cancelamentos 499.993 é maior que o numero de contratos ativos 391.666, sendo assim a empresa perdeu mais da metade de seus clientes."
   ]
  },
  {
   "cell_type": "code",
   "execution_count": 9,
   "id": "49f10a8d",
   "metadata": {},
   "outputs": [
    {
     "data": {
      "application/vnd.microsoft.datawrangler.viewer.v0+json": {
       "columns": [
        {
         "name": "cancelou",
         "rawType": "float64",
         "type": "float"
        },
        {
         "name": "proportion",
         "rawType": "object",
         "type": "string"
        }
       ],
       "ref": "a75e5550-3db0-47f0-889a-0da646671c6a",
       "rows": [
        [
         "1.0",
         "56.71%"
        ],
        [
         "0.0",
         "43.29%"
        ]
       ],
       "shape": {
        "columns": 1,
        "rows": 2
       }
      },
      "text/plain": [
       "cancelou\n",
       "1.0    56.71%\n",
       "0.0    43.29%\n",
       "Name: proportion, dtype: object"
      ]
     },
     "metadata": {},
     "output_type": "display_data"
    }
   ],
   "source": [
    "# quantidade total de cancelamentos em porcentagem\n",
    "display(dataframe_cancelamentos['cancelou'].value_counts(normalize=True).map('{:.2%}'.format)) #formatando para porcentagem com duas casas decimais\n"
   ]
  },
  {
   "cell_type": "markdown",
   "id": "6f65b6c3",
   "metadata": {},
   "source": [
    "Analisando e montando o perfil dos clientes que realizaram o cancelamento"
   ]
  },
  {
   "cell_type": "code",
   "execution_count": 10,
   "id": "4c64ea69",
   "metadata": {},
   "outputs": [
    {
     "data": {
      "application/vnd.microsoft.datawrangler.viewer.v0+json": {
       "columns": [
        {
         "name": "duracao_contrato",
         "rawType": "object",
         "type": "string"
        },
        {
         "name": "count",
         "rawType": "int64",
         "type": "integer"
        }
       ],
       "ref": "2822b4fb-2db2-4611-8858-e8cf6e7fda26",
       "rows": [
        [
         "Annual",
         "354395"
        ],
        [
         "Quarterly",
         "353059"
        ],
        [
         "Monthly",
         "174205"
        ]
       ],
       "shape": {
        "columns": 1,
        "rows": 3
       }
      },
      "text/plain": [
       "duracao_contrato\n",
       "Annual       354395\n",
       "Quarterly    353059\n",
       "Monthly      174205\n",
       "Name: count, dtype: int64"
      ]
     },
     "metadata": {},
     "output_type": "display_data"
    },
    {
     "data": {
      "application/vnd.microsoft.datawrangler.viewer.v0+json": {
       "columns": [
        {
         "name": "duracao_contrato",
         "rawType": "object",
         "type": "string"
        },
        {
         "name": "proportion",
         "rawType": "object",
         "type": "string"
        }
       ],
       "ref": "fb04cdf8-42f3-4343-8696-555dfe34bb90",
       "rows": [
        [
         "Annual",
         "40.20%"
        ],
        [
         "Quarterly",
         "40.04%"
        ],
        [
         "Monthly",
         "19.76%"
        ]
       ],
       "shape": {
        "columns": 1,
        "rows": 3
       }
      },
      "text/plain": [
       "duracao_contrato\n",
       "Annual       40.20%\n",
       "Quarterly    40.04%\n",
       "Monthly      19.76%\n",
       "Name: proportion, dtype: object"
      ]
     },
     "metadata": {},
     "output_type": "display_data"
    }
   ],
   "source": [
    "# analisando os tipos de contratos\n",
    "display(dataframe_cancelamentos['duracao_contrato'].value_counts())\n",
    "display(dataframe_cancelamentos['duracao_contrato'].value_counts(normalize=True).map('{:.2%}'.format))"
   ]
  },
  {
   "cell_type": "code",
   "execution_count": 11,
   "id": "a49aae83",
   "metadata": {},
   "outputs": [
    {
     "data": {
      "application/vnd.microsoft.datawrangler.viewer.v0+json": {
       "columns": [
        {
         "name": "duracao_contrato",
         "rawType": "object",
         "type": "string"
        },
        {
         "name": "idade",
         "rawType": "float64",
         "type": "float"
        },
        {
         "name": "tempo_como_cliente",
         "rawType": "float64",
         "type": "float"
        },
        {
         "name": "frequencia_uso",
         "rawType": "float64",
         "type": "float"
        },
        {
         "name": "ligacoes_callcenter",
         "rawType": "float64",
         "type": "float"
        },
        {
         "name": "dias_atraso",
         "rawType": "float64",
         "type": "float"
        },
        {
         "name": "total_gasto",
         "rawType": "float64",
         "type": "float"
        },
        {
         "name": "meses_ultima_interacao",
         "rawType": "float64",
         "type": "float"
        },
        {
         "name": "cancelou",
         "rawType": "float64",
         "type": "float"
        }
       ],
       "ref": "2a9db8bd-ed04-43c6-adc5-434d30a4c37c",
       "rows": [
        [
         "Annual",
         "38.842164816095035",
         "31.446185753185006",
         "15.88021275695199",
         "3.2634010073505553",
         "12.465156111118949",
         "651.6977377220333",
         "14.236106604212813",
         "0.4607598865672484"
        ],
        [
         "Monthly",
         "41.552406647340774",
         "30.53855515054103",
         "15.499273844034327",
         "4.985649091587497",
         "15.007267300020091",
         "550.6164345455068",
         "15.478011538130364",
         "1.0"
        ],
        [
         "Quarterly",
         "38.830937605329424",
         "31.419915651491678",
         "15.886662002668109",
         "3.2652446191713",
         "12.460863481741011",
         "651.4277831750501",
         "14.234544367938502",
         "0.4602545183666186"
        ]
       ],
       "shape": {
        "columns": 8,
        "rows": 3
       }
      },
      "text/html": [
       "<div>\n",
       "<style scoped>\n",
       "    .dataframe tbody tr th:only-of-type {\n",
       "        vertical-align: middle;\n",
       "    }\n",
       "\n",
       "    .dataframe tbody tr th {\n",
       "        vertical-align: top;\n",
       "    }\n",
       "\n",
       "    .dataframe thead th {\n",
       "        text-align: right;\n",
       "    }\n",
       "</style>\n",
       "<table border=\"1\" class=\"dataframe\">\n",
       "  <thead>\n",
       "    <tr style=\"text-align: right;\">\n",
       "      <th></th>\n",
       "      <th>idade</th>\n",
       "      <th>tempo_como_cliente</th>\n",
       "      <th>frequencia_uso</th>\n",
       "      <th>ligacoes_callcenter</th>\n",
       "      <th>dias_atraso</th>\n",
       "      <th>total_gasto</th>\n",
       "      <th>meses_ultima_interacao</th>\n",
       "      <th>cancelou</th>\n",
       "    </tr>\n",
       "    <tr>\n",
       "      <th>duracao_contrato</th>\n",
       "      <th></th>\n",
       "      <th></th>\n",
       "      <th></th>\n",
       "      <th></th>\n",
       "      <th></th>\n",
       "      <th></th>\n",
       "      <th></th>\n",
       "      <th></th>\n",
       "    </tr>\n",
       "  </thead>\n",
       "  <tbody>\n",
       "    <tr>\n",
       "      <th>Annual</th>\n",
       "      <td>38.842165</td>\n",
       "      <td>31.446186</td>\n",
       "      <td>15.880213</td>\n",
       "      <td>3.263401</td>\n",
       "      <td>12.465156</td>\n",
       "      <td>651.697738</td>\n",
       "      <td>14.236107</td>\n",
       "      <td>0.460760</td>\n",
       "    </tr>\n",
       "    <tr>\n",
       "      <th>Monthly</th>\n",
       "      <td>41.552407</td>\n",
       "      <td>30.538555</td>\n",
       "      <td>15.499274</td>\n",
       "      <td>4.985649</td>\n",
       "      <td>15.007267</td>\n",
       "      <td>550.616435</td>\n",
       "      <td>15.478012</td>\n",
       "      <td>1.000000</td>\n",
       "    </tr>\n",
       "    <tr>\n",
       "      <th>Quarterly</th>\n",
       "      <td>38.830938</td>\n",
       "      <td>31.419916</td>\n",
       "      <td>15.886662</td>\n",
       "      <td>3.265245</td>\n",
       "      <td>12.460863</td>\n",
       "      <td>651.427783</td>\n",
       "      <td>14.234544</td>\n",
       "      <td>0.460255</td>\n",
       "    </tr>\n",
       "  </tbody>\n",
       "</table>\n",
       "</div>"
      ],
      "text/plain": [
       "                      idade  tempo_como_cliente  frequencia_uso  \\\n",
       "duracao_contrato                                                  \n",
       "Annual            38.842165           31.446186       15.880213   \n",
       "Monthly           41.552407           30.538555       15.499274   \n",
       "Quarterly         38.830938           31.419916       15.886662   \n",
       "\n",
       "                  ligacoes_callcenter  dias_atraso  total_gasto  \\\n",
       "duracao_contrato                                                  \n",
       "Annual                       3.263401    12.465156   651.697738   \n",
       "Monthly                      4.985649    15.007267   550.616435   \n",
       "Quarterly                    3.265245    12.460863   651.427783   \n",
       "\n",
       "                  meses_ultima_interacao  cancelou  \n",
       "duracao_contrato                                    \n",
       "Annual                         14.236107  0.460760  \n",
       "Monthly                        15.478012  1.000000  \n",
       "Quarterly                      14.234544  0.460255  "
      ]
     },
     "metadata": {},
     "output_type": "display_data"
    }
   ],
   "source": [
    "# Agrupando os dados pela coluna duracao_contrato e gerar a media das outras informações\n",
    "display(dataframe_cancelamentos.groupby('duracao_contrato').mean(numeric_only=True))\n"
   ]
  },
  {
   "cell_type": "markdown",
   "id": "9fe78bc6",
   "metadata": {},
   "source": [
    "Observa-se na saida anterior, que 100% dos contratos do tipo \"Monthly\" foram cancelados."
   ]
  },
  {
   "cell_type": "code",
   "execution_count": 12,
   "id": "51e1874f",
   "metadata": {},
   "outputs": [
    {
     "data": {
      "application/vnd.microsoft.datawrangler.viewer.v0+json": {
       "columns": [
        {
         "name": "cancelou",
         "rawType": "float64",
         "type": "float"
        },
        {
         "name": "count",
         "rawType": "int64",
         "type": "integer"
        }
       ],
       "ref": "3a79b153-77f1-473e-984b-140ad4fe88cc",
       "rows": [
        [
         "0.0",
         "381666"
        ],
        [
         "1.0",
         "325788"
        ]
       ],
       "shape": {
        "columns": 1,
        "rows": 2
       }
      },
      "text/plain": [
       "cancelou\n",
       "0.0    381666\n",
       "1.0    325788\n",
       "Name: count, dtype: int64"
      ]
     },
     "metadata": {},
     "output_type": "display_data"
    },
    {
     "data": {
      "application/vnd.microsoft.datawrangler.viewer.v0+json": {
       "columns": [
        {
         "name": "cancelou",
         "rawType": "float64",
         "type": "float"
        },
        {
         "name": "proportion",
         "rawType": "object",
         "type": "string"
        }
       ],
       "ref": "1bed2d44-11c3-4006-827e-a16235c4b8dc",
       "rows": [
        [
         "0.0",
         "53.95%"
        ],
        [
         "1.0",
         "46.05%"
        ]
       ],
       "shape": {
        "columns": 1,
        "rows": 2
       }
      },
      "text/plain": [
       "cancelou\n",
       "0.0    53.95%\n",
       "1.0    46.05%\n",
       "Name: proportion, dtype: object"
      ]
     },
     "metadata": {},
     "output_type": "display_data"
    }
   ],
   "source": [
    "# criando outro dataframe sem os contratos mensais\n",
    "dataframe_cancelamentos = dataframe_cancelamentos[dataframe_cancelamentos[\"duracao_contrato\"] != \"Monthly\"]\n",
    "\n",
    "display(dataframe_cancelamentos[\"cancelou\"].value_counts())\n",
    "display(dataframe_cancelamentos[\"cancelou\"].value_counts(normalize=True).map('{:.2%}'.format))"
   ]
  },
  {
   "cell_type": "markdown",
   "id": "06a5399d",
   "metadata": {},
   "source": [
    "Observa-se que sem os contratos mensais, a taxa de cancelamentos cairam de 56,71% para 46,05%. Consequentemente a taxa de cancelamento dos contratos anuais e trimestrais ainda é alta, o que pode indicar que esses contratos não estão atendendo às expectativas dos clientes. \n"
   ]
  },
  {
   "cell_type": "markdown",
   "id": "6a329257",
   "metadata": {},
   "source": [
    "##### Plotando graficos com a biblioteca plotly"
   ]
  },
  {
   "cell_type": "code",
   "execution_count": null,
   "id": "06799028",
   "metadata": {},
   "outputs": [],
   "source": [
    "# instalando a biblioteca plotly\n",
    "# pip install plotly\n",
    "# pip install nbformat\n",
    "\n",
    "import plotly.express as px\n",
    "\n",
    "for coluna in dataframe_cancelamentos.columns:\n",
    "    grafico = px.histogram(dataframe_cancelamentos, x=coluna, color='cancelou', width=600)\n",
    "    grafico.show()"
   ]
  },
  {
   "cell_type": "markdown",
   "id": "67b50fb4",
   "metadata": {},
   "source": [
    "Observa-se que as colunas \"ligacoes para o callcenter\" e \"dias de atraso\" estao influenciando na taxa de cancelementos.\n",
    "\n",
    "Os clientes cancelam o contrato:\n",
    "1. quando precisam ligar para o call center mais de 5 vezes.\n",
    "2. quando atrasam o pagamento por mais de 20 dias."
   ]
  },
  {
   "cell_type": "code",
   "execution_count": 14,
   "id": "a2254521",
   "metadata": {},
   "outputs": [
    {
     "data": {
      "application/vnd.microsoft.datawrangler.viewer.v0+json": {
       "columns": [
        {
         "name": "cancelou",
         "rawType": "float64",
         "type": "float"
        },
        {
         "name": "count",
         "rawType": "int64",
         "type": "integer"
        }
       ],
       "ref": "db4e1f03-5650-4efc-a09a-df62cdbfb6bf",
       "rows": [
        [
         "0.0",
         "379032"
        ],
        [
         "1.0",
         "85447"
        ]
       ],
       "shape": {
        "columns": 1,
        "rows": 2
       }
      },
      "text/plain": [
       "cancelou\n",
       "0.0    379032\n",
       "1.0     85447\n",
       "Name: count, dtype: int64"
      ]
     },
     "metadata": {},
     "output_type": "display_data"
    },
    {
     "data": {
      "application/vnd.microsoft.datawrangler.viewer.v0+json": {
       "columns": [
        {
         "name": "cancelou",
         "rawType": "float64",
         "type": "float"
        },
        {
         "name": "proportion",
         "rawType": "object",
         "type": "string"
        }
       ],
       "ref": "12bbb1b1-49d2-4bd5-9a40-7e98f97180e8",
       "rows": [
        [
         "0.0",
         "81.60%"
        ],
        [
         "1.0",
         "18.40%"
        ]
       ],
       "shape": {
        "columns": 1,
        "rows": 2
       }
      },
      "text/plain": [
       "cancelou\n",
       "0.0    81.60%\n",
       "1.0    18.40%\n",
       "Name: proportion, dtype: object"
      ]
     },
     "metadata": {},
     "output_type": "display_data"
    }
   ],
   "source": [
    "# criando um novo dataframe sem os registros com mais de 5 ligações para o call center e com mais de 20 dias de atraso\n",
    "dataframe_cancelamentos = dataframe_cancelamentos[dataframe_cancelamentos['ligacoes_callcenter'] < 5]\n",
    "dataframe_cancelamentos = dataframe_cancelamentos[dataframe_cancelamentos['dias_atraso'] <= 20]\n",
    "\n",
    "display(dataframe_cancelamentos['cancelou'].value_counts())\n",
    "display(dataframe_cancelamentos['cancelou'].value_counts(normalize=True).map('{:.2%}'.format))"
   ]
  },
  {
   "cell_type": "markdown",
   "id": "b4ab1890",
   "metadata": {},
   "source": [
    "Observa-se que a taxa de cancelamentos sem os clientes que ligaram mais de 5 vezes para o callcenter e sem os clientes que atrasaram por mais de 20 dias o pagamento, a taxa de cancelamentos cai para 18,40% do total."
   ]
  }
 ],
 "metadata": {
  "kernelspec": {
   "display_name": ".venv",
   "language": "python",
   "name": "python3"
  },
  "language_info": {
   "codemirror_mode": {
    "name": "ipython",
    "version": 3
   },
   "file_extension": ".py",
   "mimetype": "text/x-python",
   "name": "python",
   "nbconvert_exporter": "python",
   "pygments_lexer": "ipython3",
   "version": "3.13.3"
  }
 },
 "nbformat": 4,
 "nbformat_minor": 5
}
