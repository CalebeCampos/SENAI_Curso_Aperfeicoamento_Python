{
 "cells": [
  {
   "cell_type": "markdown",
   "id": "e03c70e8",
   "metadata": {},
   "source": [
    "# Titulo do meu notebook (h1)\n",
    "## Subtitulo do meu notebook (h2)\n",
    "### Subtitulo de nivel 3 do meu notebook (h3)\n",
    "---"
   ]
  },
  {
   "cell_type": "markdown",
   "id": "a652e83f",
   "metadata": {},
   "source": [
    "Texto livre dentro da celula markdow\n",
    "\n",
    "\n",
    "Para deixar o texto em negrito, basta colocar asterisco no inicio e fim do texto, exemplo: *Negrito*\n",
    "\n",
    "Para deixar o texto em italico, basta colocar dois asteriscos no inicio e fim do texto, exemplo: **Italico**\n",
    "\n",
    "Para deixar o texto em negrito e italico, basta colocar tres asteriscos no inicio e fim do texto, exemplo: ***Italico e Negrito***\n"
   ]
  },
  {
   "cell_type": "markdown",
   "id": "7cb9f868",
   "metadata": {},
   "source": [
    "Usando marcadores...\n",
    "\n",
    "Com ifem e espaco...\n",
    "\n",
    "- marcador1\n",
    "- marcador2\n",
    "- marcador3\n",
    "\n",
    "Com numero e ponto...\n",
    "\n",
    "1. marcador1\n",
    "2. marcador2\n",
    "3. marcador3"
   ]
  },
  {
   "cell_type": "markdown",
   "id": "51c57834",
   "metadata": {},
   "source": [
    "Para marcar comandos de codigos entre textos, basta usar o sinal de crase no inicio e final do comento. Exemplo:\n",
    "\n",
    "Para instalar a biblioteca pandas, execute o comando no `pip install pandas` terminal."
   ]
  },
  {
   "cell_type": "markdown",
   "id": "d7d82898",
   "metadata": {},
   "source": [
    "Para marcar codigo fonte entre textos, basta usar o sinal de acentuacao tio ~ seguido do nome da linguagem. Exemplo:\n",
    "\n",
    "Esse é um codigo em php:\n",
    "~~~php\n",
    "<?php\n",
    "    echo \"Olá Mundo!\";\n",
    "?>\n",
    "~~~\n",
    "\n",
    "Esse é um codigo em sql:\n",
    "~~~sql\n",
    "SELECT * FROM Cliente WHERE Genero = 'm';\n",
    "~~~\n",
    "\n",
    "Esse é um codigo em java:\n",
    "~~~java\n",
    "class Main {\n",
    "    public static void main(String[] args) {\n",
    "        System.out.println(\"Olá Mundo!\");\n",
    "    }\n",
    "}\n",
    "~~~\n",
    "\n",
    "Os codigos nao sao executados, sao apenas textos com marcacao, para fins de demonstracao.\n"
   ]
  },
  {
   "cell_type": "markdown",
   "id": "5f5013d8",
   "metadata": {},
   "source": []
  }
 ],
 "metadata": {
  "language_info": {
   "name": "python"
  }
 },
 "nbformat": 4,
 "nbformat_minor": 5
}
