{
 "cells": [
  {
   "cell_type": "markdown",
   "id": "ab261f01",
   "metadata": {},
   "source": [
    "## Inserindo links em markdowns\n",
    "\n",
    "o texto entre colchetes e o link entre parenteses...\n",
    "\n",
    "[clique aqui para abrir o link do meu github](https://github.com/CalebeCampos)\n",
    "\n",
    "ou coloque o link entre sinais de menor e maior...\n",
    "\n",
    "Clique no link ao lado para abrir meu github: <https://github.com/CalebeCampos>"
   ]
  },
  {
   "cell_type": "markdown",
   "id": "642a4a7f",
   "metadata": {},
   "source": [
    "### Quote\n",
    "\n",
    "> Este texto ficara em destaque em relacao aos outros textos do notebook. Este recurso é muito interessante para destacar um trecho do texto ou para inserir o conceito de alguma palavra por exemplo."
   ]
  },
  {
   "cell_type": "markdown",
   "id": "58c25202",
   "metadata": {},
   "source": [
    "### Tabela\n",
    "\n",
    "Para criar tabelas, utiliza-se o pip e ifens conforme exemplo a seguir...\n",
    "\n",
    "Coluna1 | Coluna2 | Coluna3 | Coluna4\n",
    "--------|---------|---------|---------\n",
    "Calebe  | Brasil  | 9922233 | calebe@gmail.com\n",
    "Pedro | Brasil | 9966554 | pedro@gmail.com"
   ]
  },
  {
   "cell_type": "markdown",
   "id": "e295b2aa",
   "metadata": {},
   "source": [
    "### HTML em markdowns\n",
    "\n",
    "<h5>Este é um texto utilizando tag do HTML dentro do markdown</h5>\n",
    "<marquee>Texto passando na tela</marquee>\n",
    "\n",
    "<div style=\"border: 1px solid green; border-radius: 5px; width: 100px; height: 100px; background-color: red\"></div>\n",
    "\n"
   ]
  },
  {
   "cell_type": "markdown",
   "id": "1e7af0cf",
   "metadata": {},
   "source": [
    "### Quote personalizado com HTML\n",
    "\n",
    "<div style=\"border: 2px groove #16161d; border-radius: 5px; background-color: #ff0000; padding: 20px; box-shadow: 10px 10px 15px black;\">\n",
    "    <p>\n",
    "        Este texto esta dentro de uma div que simula uma quote em um markdown de um notebook. Para exemplificar algo.\n",
    "    </p>\n",
    "</div>"
   ]
  },
  {
   "cell_type": "markdown",
   "id": "b036c705",
   "metadata": {},
   "source": [
    "### Criacao de formulario no markdown\n",
    "\n",
    "com checkbox\n",
    "\n",
    "<input type=\"checkbox\" /><span>Opção1</span></br>\n",
    "<input type=\"checkbox\" /><span>Opção2</span></br>\n",
    "<input type=\"checkbox\" /><span>Opção3</span></br>\n",
    "<input type=\"checkbox\" /><span>Opção4</span></br>\n",
    "\n",
    "com radio button\n",
    "\n",
    "<input type=\"radio\" /><span>Opção1</span></br>\n",
    "<input type=\"radio\" /><span>Opção2</span></br>\n",
    "<input type=\"radio\" /><span>Opção3</span></br>\n",
    "<input type=\"radio\" /><span>Opção4</span></br>\n",
    "\n",
    "\n",
    "<select>\n",
    "    <option>Java</option>\n",
    "    <option>JavaScript</option>\n",
    "    <option>Python</option>\n",
    "    <option>php</option>\n",
    "</select>"
   ]
  },
  {
   "cell_type": "markdown",
   "id": "01a5c95f",
   "metadata": {},
   "source": [
    "### Inserindo imagem no markdown usando HTML\n",
    "\n",
    "<div style=\"display: flex; justify-content: center\">\n",
    "    <img src=\"assets/img_1.png\" alt=\"dragonball\" width=600 />\n",
    "</div>"
   ]
  },
  {
   "cell_type": "markdown",
   "id": "344c949c",
   "metadata": {},
   "source": [
    "### Celulas de codigo..."
   ]
  },
  {
   "cell_type": "code",
   "execution_count": 1,
   "id": "9f01f6fe",
   "metadata": {},
   "outputs": [
    {
     "name": "stdout",
     "output_type": "stream",
     "text": [
      "Hello, World!\n"
     ]
    }
   ],
   "source": [
    "print(\"Hello, World!\")"
   ]
  },
  {
   "cell_type": "code",
   "execution_count": 2,
   "id": "35b1283a",
   "metadata": {},
   "outputs": [
    {
     "name": "stdout",
     "output_type": "stream",
     "text": [
      "O nome do filme é: O codigo dá 20!\n"
     ]
    }
   ],
   "source": [
    "x = 15\n",
    "y = 5\n",
    "print(f\"O nome do filme é: O codigo dá {x + y}!\")"
   ]
  },
  {
   "cell_type": "markdown",
   "id": "13f6dd65",
   "metadata": {},
   "source": [
    "### Fazendo input de dados em celulas de codigo"
   ]
  },
  {
   "cell_type": "code",
   "execution_count": 3,
   "id": "0126d750",
   "metadata": {},
   "outputs": [
    {
     "name": "stdout",
     "output_type": "stream",
     "text": [
      "Olá, Calebe Campos! Seja bem-vindo ao mundo da programação!\n"
     ]
    }
   ],
   "source": [
    "nome = input(\"Qual é o seu nome? \")\n",
    "print(f\"Olá, {nome}! Seja bem-vindo ao mundo da programação!\")"
   ]
  },
  {
   "cell_type": "code",
   "execution_count": 4,
   "id": "06f123f5",
   "metadata": {},
   "outputs": [
    {
     "name": "stdout",
     "output_type": "stream",
     "text": [
      "Calebe Campos\n"
     ]
    }
   ],
   "source": [
    "print(nome)"
   ]
  }
 ],
 "metadata": {
  "kernelspec": {
   "display_name": ".venv",
   "language": "python",
   "name": "python3"
  },
  "language_info": {
   "codemirror_mode": {
    "name": "ipython",
    "version": 3
   },
   "file_extension": ".py",
   "mimetype": "text/x-python",
   "name": "python",
   "nbconvert_exporter": "python",
   "pygments_lexer": "ipython3",
   "version": "3.13.3"
  }
 },
 "nbformat": 4,
 "nbformat_minor": 5
}
